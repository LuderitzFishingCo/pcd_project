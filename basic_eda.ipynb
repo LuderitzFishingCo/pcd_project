{
 "cells": [
  {
   "cell_type": "code",
   "execution_count": 19,
   "id": "d30f1010",
   "metadata": {},
   "outputs": [],
   "source": [
    "#Imports\n",
    "import pandas as pd\n",
    "import numpy as np\n",
    "import seaborn as sbs"
   ]
  },
  {
   "cell_type": "code",
   "execution_count": 20,
   "id": "33489d44",
   "metadata": {},
   "outputs": [],
   "source": [
    "#Loading the data set\n",
    "df = pd.read_csv('films_pcd.csv')"
   ]
  },
  {
   "cell_type": "code",
   "execution_count": 21,
   "id": "d295ee14",
   "metadata": {},
   "outputs": [
    {
     "data": {
      "text/html": [
       "<div>\n",
       "<style scoped>\n",
       "    .dataframe tbody tr th:only-of-type {\n",
       "        vertical-align: middle;\n",
       "    }\n",
       "\n",
       "    .dataframe tbody tr th {\n",
       "        vertical-align: top;\n",
       "    }\n",
       "\n",
       "    .dataframe thead th {\n",
       "        text-align: right;\n",
       "    }\n",
       "</style>\n",
       "<table border=\"1\" class=\"dataframe\">\n",
       "  <thead>\n",
       "    <tr style=\"text-align: right;\">\n",
       "      <th></th>\n",
       "      <th>ID</th>\n",
       "      <th>Title</th>\n",
       "      <th>Watched</th>\n",
       "      <th>Year</th>\n",
       "      <th>Genre</th>\n",
       "      <th>Runtime</th>\n",
       "      <th>Tier</th>\n",
       "      <th>Medium</th>\n",
       "    </tr>\n",
       "  </thead>\n",
       "  <tbody>\n",
       "    <tr>\n",
       "      <th>0</th>\n",
       "      <td>1</td>\n",
       "      <td>The Disaster Artist</td>\n",
       "      <td>2017-12-31</td>\n",
       "      <td>2017.0</td>\n",
       "      <td>Comedy</td>\n",
       "      <td>104.0</td>\n",
       "      <td>A</td>\n",
       "      <td>Home</td>\n",
       "    </tr>\n",
       "    <tr>\n",
       "      <th>1</th>\n",
       "      <td>2</td>\n",
       "      <td>The Room</td>\n",
       "      <td>2017-12-31</td>\n",
       "      <td>2003.0</td>\n",
       "      <td>Drama</td>\n",
       "      <td>99.0</td>\n",
       "      <td>A</td>\n",
       "      <td>Home</td>\n",
       "    </tr>\n",
       "    <tr>\n",
       "      <th>2</th>\n",
       "      <td>3</td>\n",
       "      <td>I, Tonya</td>\n",
       "      <td>2018-01-05</td>\n",
       "      <td>2017.0</td>\n",
       "      <td>Comedy</td>\n",
       "      <td>121.0</td>\n",
       "      <td>A</td>\n",
       "      <td>Home</td>\n",
       "    </tr>\n",
       "    <tr>\n",
       "      <th>3</th>\n",
       "      <td>4</td>\n",
       "      <td>Call Me By Your Name</td>\n",
       "      <td>2018-01-06</td>\n",
       "      <td>2017.0</td>\n",
       "      <td>Drama</td>\n",
       "      <td>132.0</td>\n",
       "      <td>S</td>\n",
       "      <td>Home</td>\n",
       "    </tr>\n",
       "    <tr>\n",
       "      <th>4</th>\n",
       "      <td>5</td>\n",
       "      <td>Lady Bird</td>\n",
       "      <td>2018-01-06</td>\n",
       "      <td>2017.0</td>\n",
       "      <td>Comedy</td>\n",
       "      <td>95.0</td>\n",
       "      <td>S</td>\n",
       "      <td>Home</td>\n",
       "    </tr>\n",
       "  </tbody>\n",
       "</table>\n",
       "</div>"
      ],
      "text/plain": [
       "   ID                 Title     Watched    Year   Genre  Runtime Tier Medium\n",
       "0   1   The Disaster Artist  2017-12-31  2017.0  Comedy    104.0    A   Home\n",
       "1   2              The Room  2017-12-31  2003.0   Drama     99.0    A   Home\n",
       "2   3              I, Tonya  2018-01-05  2017.0  Comedy    121.0    A   Home\n",
       "3   4  Call Me By Your Name  2018-01-06  2017.0   Drama    132.0    S   Home\n",
       "4   5             Lady Bird  2018-01-06  2017.0  Comedy     95.0    S   Home"
      ]
     },
     "execution_count": 21,
     "metadata": {},
     "output_type": "execute_result"
    }
   ],
   "source": [
    "#Basic look at the data\n",
    "df.head()"
   ]
  },
  {
   "cell_type": "code",
   "execution_count": 22,
   "id": "0b985843",
   "metadata": {},
   "outputs": [
    {
     "data": {
      "text/plain": [
       "(349, 8)"
      ]
     },
     "execution_count": 22,
     "metadata": {},
     "output_type": "execute_result"
    }
   ],
   "source": [
    "df.shape"
   ]
  },
  {
   "cell_type": "code",
   "execution_count": 23,
   "id": "e1596d3d",
   "metadata": {},
   "outputs": [
    {
     "data": {
      "text/plain": [
       "Avengers: Infinity War       7\n",
       "Call Me By Your Name         5\n",
       "Game Night                   5\n",
       "The Gunfighter               5\n",
       "Mad Max Fury Road            4\n",
       "                            ..\n",
       "While at War                 1\n",
       "Baby Driver                  1\n",
       "Godzilla                     1\n",
       "Sorry to Bother You          1\n",
       "Justice League Snyder Cut    1\n",
       "Name: Title, Length: 253, dtype: int64"
      ]
     },
     "execution_count": 23,
     "metadata": {},
     "output_type": "execute_result"
    }
   ],
   "source": [
    "df.Title.value_counts()"
   ]
  },
  {
   "cell_type": "code",
   "execution_count": 24,
   "id": "e5ef6b8e",
   "metadata": {},
   "outputs": [
    {
     "data": {
      "text/plain": [
       "Comedy             84\n",
       "Drama              55\n",
       "Fantasy            34\n",
       "Action             34\n",
       "Horror             34\n",
       "Adventure          31\n",
       "Crime              30\n",
       "Science Fiction    18\n",
       "Thriller            9\n",
       "War                 6\n",
       "Documentary         4\n",
       "Western             3\n",
       "Musical             3\n",
       "Sport               2\n",
       "Mystery             1\n",
       "Family              1\n",
       "Name: Genre, dtype: int64"
      ]
     },
     "execution_count": 24,
     "metadata": {},
     "output_type": "execute_result"
    }
   ],
   "source": [
    "df.Genre.value_counts()"
   ]
  },
  {
   "cell_type": "code",
   "execution_count": 14,
   "id": "0b38ada8",
   "metadata": {},
   "outputs": [
    {
     "data": {
      "text/plain": [
       "Index(['ID', 'Title', 'Watched', 'Year', 'Genre', 'Runtime', 'Tier', 'Medium'], dtype='object')"
      ]
     },
     "execution_count": 14,
     "metadata": {},
     "output_type": "execute_result"
    }
   ],
   "source": [
    "df.columns"
   ]
  },
  {
   "cell_type": "code",
   "execution_count": 25,
   "id": "60b4d640",
   "metadata": {},
   "outputs": [
    {
     "data": {
      "text/plain": [
       "A    161\n",
       "S     97\n",
       "B     65\n",
       "C     26\n",
       "Name: Tier, dtype: int64"
      ]
     },
     "execution_count": 25,
     "metadata": {},
     "output_type": "execute_result"
    }
   ],
   "source": [
    "df.Tier.value_counts()"
   ]
  },
  {
   "cell_type": "code",
   "execution_count": null,
   "id": "3e364edb",
   "metadata": {},
   "outputs": [],
   "source": []
  }
 ],
 "metadata": {
  "kernelspec": {
   "display_name": "Python 3",
   "language": "python",
   "name": "python3"
  },
  "language_info": {
   "codemirror_mode": {
    "name": "ipython",
    "version": 3
   },
   "file_extension": ".py",
   "mimetype": "text/x-python",
   "name": "python",
   "nbconvert_exporter": "python",
   "pygments_lexer": "ipython3",
   "version": "3.8.8"
  }
 },
 "nbformat": 4,
 "nbformat_minor": 5
}
